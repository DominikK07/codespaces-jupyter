{
 "cells": [
  {
   "cell_type": "code",
   "execution_count": 3,
   "id": "d8c373bf",
   "metadata": {},
   "outputs": [
    {
     "name": "stdout",
     "output_type": "stream",
     "text": [
      "Adam\n",
      "Otto\n",
      "Anna\n",
      "Eva\n",
      "Jozef\n",
      "Eva\n",
      "\n"
     ]
    }
   ],
   "source": [
    "#Files (working with files)\n",
    "\n",
    "file_path = \"mena.txt\"\n",
    "\n",
    "# Citanie celeho obsahu naraz\n",
    "with open(file_path, mode=\"r\", encoding=\"utf-8\") as f:      #Nazov \"f\" sluzi na pracu vramci funkcie open\n",
    "    obsah=f.read()\n",
    "\n",
    "print(obsah)\n"
   ]
  },
  {
   "cell_type": "code",
   "execution_count": 5,
   "id": "352e0d25",
   "metadata": {},
   "outputs": [
    {
     "name": "stdout",
     "output_type": "stream",
     "text": [
      "1: Adam\n",
      "\n",
      "2: Otto\n",
      "\n",
      "3: Anna\n",
      "\n",
      "4: Eva\n",
      "\n",
      "5: Jozef\n",
      "\n",
      "6: Eva\n",
      "\n"
     ]
    }
   ],
   "source": [
    "#Citanie po riadkoch\n",
    "with open(file_path, mode=\"r\", encoding=\"utf-8\") as f:\n",
    "    for i, riadok in enumerate(f, start=1):\n",
    "        print(str(i) + \": \" + riadok)\n",
    "\n",
    "# Function enumerate() goes through all the lines in the file\n",
    "# The interval of this for cycle therefore runs for all lines in the file\n"
   ]
  },
  {
   "cell_type": "code",
   "execution_count": null,
   "id": "8897f11a",
   "metadata": {},
   "outputs": [],
   "source": [
    "# Zapis (writing into a file)\n",
    "\n",
    "a=100\n",
    "\n",
    "with open(\"vypis.txt\",mode=\"w\",encoding=\"utf-8\") as file2:\n",
    "    file2.write(\"Prvy riadok\\n\")\n",
    "    file2.write(\"Druhy riadok\\n\")\n",
    "    file2.write(str(a))                 # If we leave out \\n the next string will be on the same line\n",
    "    file2.write(\"Treti riadok\")\n",
    "    file2.write(\"\\nStvrti riadok\")      # \\n can either be written at the end of the previous line or at the start of the new line \n",
    "\n",
    "# If the file name stays the same while we change the code, the file is overwritten with the new instructions\n",
    "#"
   ]
  },
  {
   "cell_type": "code",
   "execution_count": null,
   "id": "15464cb1",
   "metadata": {},
   "outputs": [
    {
     "name": "stdout",
     "output_type": "stream",
     "text": [
      "Nasiel som:  Eva\n",
      "\n"
     ]
    }
   ],
   "source": [
    "# Hladanie konkretneho zaznamu v texte\n",
    "\n",
    "hladany_vyraz = \"Eva\"\n",
    "\n",
    "with open(\"mena.txt\", mode=\"r\", encoding=\"utf-8\") as f:\n",
    "    for riadok in f:        # \"riadok\" is used as the index\n",
    "        if hladany_vyraz in riadok:\n",
    "            print(\"Nasiel som: \", riadok)\n",
    "            break       # After the if cycle finds the value the break statement stops the cycle\n",
    "    else:\n",
    "        print(\"Zaznam sa nenasiel.\")    # Prints this for each line where the correct value hasn't been found\n",
    "\n",
    "# Jupyter notebooks seems to just print the last (correct) line and not the ones by the else statement\n",
    "    "
   ]
  },
  {
   "cell_type": "code",
   "execution_count": 16,
   "id": "840c5a68",
   "metadata": {},
   "outputs": [],
   "source": [
    "# CSV files\n",
    "\n",
    "import csv\n",
    "\n",
    "\n",
    "# Zapis do CSV z iterovatelnej kolekcie dictionaries\n",
    "nove = []\n",
    "\n",
    "###\n",
    "###\n",
    "# Find this code in Teams !!!!!!!!!!!!!\n",
    "###\n",
    "###"
   ]
  },
  {
   "cell_type": "code",
   "execution_count": 13,
   "id": "41b237c2",
   "metadata": {},
   "outputs": [
    {
     "name": "stdout",
     "output_type": "stream",
     "text": [
      "Chyba konverzie: invalid literal for int() with base 10: '123a'\n",
      "This will get printed although the previous line had an error\n"
     ]
    }
   ],
   "source": [
    "# Vynimky (exceptions)\n",
    "\n",
    "text = \"123a\"\n",
    "\n",
    "try:\n",
    "    cislo = int(text)\n",
    "except ValueError as e:\n",
    "    print(\"Chyba konverzie:\", e)\n",
    "\n",
    "print(\"This will get printed although the previous line had an error\")\n",
    "\n",
    "# Used when we want to prevent the whole code from stopping - following lines of code will still run"
   ]
  },
  {
   "cell_type": "code",
   "execution_count": null,
   "id": "02ed906b",
   "metadata": {},
   "outputs": [
    {
     "name": "stdout",
     "output_type": "stream",
     "text": [
      "Chyba konverzie: invalid literal for int() with base 10: '123a'\n",
      "Hotovo\n"
     ]
    }
   ],
   "source": [
    "# Vynimky s finally\n",
    "\n",
    "try:\n",
    "    cislo = int(text)\n",
    "except ValueError as e:\n",
    "    print(\"Chyba konverzie:\", e)\n",
    "finally:        # Anything in finally will run regardless if the try succeeded or found an error\n",
    "    print(\"Hotovo\")\n"
   ]
  },
  {
   "cell_type": "code",
   "execution_count": null,
   "id": "0eb1cabc",
   "metadata": {},
   "outputs": [],
   "source": [
    "#..."
   ]
  }
 ],
 "metadata": {
  "kernelspec": {
   "display_name": "Python 3",
   "language": "python",
   "name": "python3"
  },
  "language_info": {
   "codemirror_mode": {
    "name": "ipython",
    "version": 3
   },
   "file_extension": ".py",
   "mimetype": "text/x-python",
   "name": "python",
   "nbconvert_exporter": "python",
   "pygments_lexer": "ipython3",
   "version": "3.12.1"
  }
 },
 "nbformat": 4,
 "nbformat_minor": 5
}

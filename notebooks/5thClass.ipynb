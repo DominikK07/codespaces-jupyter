{
 "cells": [
  {
   "cell_type": "code",
   "execution_count": 12,
   "id": "2e8b0b23",
   "metadata": {},
   "outputs": [
    {
     "name": "stdout",
     "output_type": "stream",
     "text": [
      "Pyt\n"
     ]
    },
    {
     "data": {
      "text/plain": [
       "'DOBRY DEN'"
      ]
     },
     "execution_count": 12,
     "metadata": {},
     "output_type": "execute_result"
    }
   ],
   "source": [
    "#Priklady\n",
    "\n",
    "#1\n",
    "# Z retazca \"Python\" vypis len prve tri pismena\n",
    "string='Python'\n",
    "print(string[:3])\n",
    "\n",
    "#2\n",
    "# Vytvor retazec \"Dobry den\" a premen ho na velke pismena\n",
    "string2='Dobry den'\n",
    "string2.upper()\n"
   ]
  },
  {
   "cell_type": "code",
   "execution_count": null,
   "id": "44a366fc",
   "metadata": {},
   "outputs": [
    {
     "name": "stdout",
     "output_type": "stream",
     "text": [
      "e\n",
      "ie\n",
      "hruska\n",
      "[1, 2, 3, 3, 4, 5]\n",
      "3\n",
      "6\n"
     ]
    }
   ],
   "source": [
    "#3\n",
    "# Zo stringu \"programovanie\" vyber posledne pismeno\n",
    "string3='programovanie'\n",
    "print(string3[-1])\n",
    "# Posledne dve pismena\n",
    "print(string3[-2:])\n",
    "\n",
    "#4\n",
    "# Vytvor n-ticu (\"jablko\", \"hruska\", \"slivka\") a vypis druhy prvok\n",
    "# (Create a Tuple)\n",
    "ntica = ('jablko','hruska','slivka')\n",
    "print(ntica[1])\n",
    "\n",
    "#5\n",
    "# Vytvor zoznam [1,2,3,4,5] a pridaj na treti index cislo 3\n",
    "# (Create a List)\n",
    "zoznam = [1,2,3,4,5]\n",
    "zoznam.insert(3,3)\n",
    "print(zoznam)\n",
    "\n",
    "#6\n",
    "# Program ktory spocita kolkokrat sa cislo 2 nachadza v zozname [1,2,2,3,2,4]\n",
    "zoznam=[1,2,2,3,2,4]\n",
    "print(zoznam.count(2))\n",
    "# Dlzka zoznamu - kolko udajov ma zoznam (length function)\n",
    "print(len(zoznam))\n"
   ]
  },
  {
   "cell_type": "code",
   "execution_count": null,
   "id": "802b0b55",
   "metadata": {},
   "outputs": [
    {
     "name": "stdout",
     "output_type": "stream",
     "text": [
      "-4 je zaporne\n",
      "0 je nula\n"
     ]
    }
   ],
   "source": [
    "# Nove ucivo\n",
    "\n",
    "# Podmienky\n",
    "\n",
    "# Zadavanie do konzoly - Vypyta si input od pouzivatela - Nefunguje v Jupyter\n",
    "# input() function\n",
    "# x = int(input(\"Zadaj cislo:\"))\n",
    "\n",
    "# Random generator (kedze nefunguje input)\n",
    "import random\n",
    "x = random.randint(-5,5)\n",
    "\n",
    "if x>0:\n",
    "    print(str(x) + ' je kladne')\n",
    "else:\n",
    "    print(str(x) + ' je zaporne')\n",
    "\n",
    "\n",
    "# Pridanie viacerych podmienok\n",
    "x=0\n",
    "\n",
    "if x>0:\n",
    "    print(str(x) + ' je kladne')\n",
    "elif x==0:\n",
    "    print(str(x) + ' je nula')\n",
    "else:\n",
    "    print(str(x) + ' je zaporne')\n"
   ]
  },
  {
   "cell_type": "code",
   "execution_count": 26,
   "id": "45da780a",
   "metadata": {},
   "outputs": [
    {
     "name": "stdout",
     "output_type": "stream",
     "text": [
      "neplnolety\n"
     ]
    }
   ],
   "source": [
    "# Podmienka v jednom riadku\n",
    "x=18\n",
    "status = 'plnolety' if x > 18 else 'neplnolety'\n",
    "print(status)\n"
   ]
  },
  {
   "cell_type": "code",
   "execution_count": null,
   "id": "5f5dda43",
   "metadata": {},
   "outputs": [],
   "source": [
    "# Tuples () - nemenne - immutable\n",
    "\n",
    "# Lists [] - menne - mutable - can be modified"
   ]
  },
  {
   "cell_type": "code",
   "execution_count": 45,
   "id": "540d24a4",
   "metadata": {},
   "outputs": [
    {
     "name": "stdout",
     "output_type": "stream",
     "text": [
      "{'meno': 'Otto', 'vek': 50}\n",
      "Otto\n",
      "50\n",
      "{'meno': 'Otto', 'vek': 50, 'program': 'Data science'}\n",
      "{'meno': 'Novak', 'vek': 50, 'program': 'Data science'}\n",
      "{'meno': 'Alex', 'vek': 50, 'program': 'Data science'}\n",
      "50\n",
      "50\n",
      "{'meno': 'Alex', 'program': 'Data science'}\n",
      "{'meno': 'Otto', 'vek': 50}\n",
      "{'meno': 'Otto'}\n",
      "50\n"
     ]
    }
   ],
   "source": [
    "# Dictionaries {}\n",
    "\n",
    "student = {'meno':'Otto', 'vek':50}\n",
    "print(student)\n",
    "\n",
    "# Output only 'meno' of student\n",
    "print(student['meno'])\n",
    "# Output only 'vek' of student\n",
    "print(student['vek'])\n",
    "\n",
    "# Add another key and value to the dictionary - pridanie dalsich dat\n",
    "student['program'] = 'Data science'\n",
    "print(student)\n",
    "\n",
    "# Updating or changing a value - \"Otto\" gets changed to \"Novak\"\n",
    "student.update({'meno':'Novak'})\n",
    "print(student)\n",
    "# Also this way - \"Novak\" gets changed to \"Alex\"\n",
    "student['meno'] = 'Alex'\n",
    "print(student)\n",
    "\n",
    "# get() function\n",
    "print(student.get('vek'))\n",
    "# same as\n",
    "print(student['vek'])\n",
    "\n",
    "# Delete a key and value\n",
    "del student['vek']\n",
    "print(student)\n",
    "\n",
    "\n",
    "# pop() function - deletes value, but this value can be saved as a variable\n",
    "student = {'meno':'Otto','vek':50}\n",
    "print(student)\n",
    "\n",
    "# Deletes a variable, but this value can be saved as a variable\n",
    "vek8 = student.pop(\"vek\", 50)\n",
    "print(student)\n",
    "print(vek8)\n"
   ]
  },
  {
   "cell_type": "code",
   "execution_count": 44,
   "id": "b9fa6090",
   "metadata": {},
   "outputs": [
    {
     "name": "stdout",
     "output_type": "stream",
     "text": [
      "dict_keys(['meno', 'vek', 'program', 'fakulta'])\n",
      "dict_values(['Otto', 50, 'DS', 'FHI'])\n"
     ]
    }
   ],
   "source": [
    "student={'meno' : 'Otto',\n",
    "         'vek' : 50,\n",
    "         'program' : 'DS',\n",
    "         'fakulta' : 'FHI'}\n",
    "\n",
    "# Prints only keys\n",
    "print(student.keys())\n",
    "\n",
    "# Prints only values\n",
    "print(student.values())"
   ]
  },
  {
   "cell_type": "code",
   "execution_count": null,
   "id": "47d19145",
   "metadata": {},
   "outputs": [],
   "source": []
  }
 ],
 "metadata": {
  "kernelspec": {
   "display_name": "Python 3",
   "language": "python",
   "name": "python3"
  },
  "language_info": {
   "codemirror_mode": {
    "name": "ipython",
    "version": 3
   },
   "file_extension": ".py",
   "mimetype": "text/x-python",
   "name": "python",
   "nbconvert_exporter": "python",
   "pygments_lexer": "ipython3",
   "version": "3.12.1"
  }
 },
 "nbformat": 4,
 "nbformat_minor": 5
}

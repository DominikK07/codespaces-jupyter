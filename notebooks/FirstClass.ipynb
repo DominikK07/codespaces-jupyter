{
 "cells": [
  {
   "cell_type": "code",
   "execution_count": null,
   "id": "6171012c",
   "metadata": {},
   "outputs": [],
   "source": [
    "# Installs package datetime -> Use primarily in terminal, but also works here in cell\n",
    "# Terminal in VS Code: 3 lines(on the left)>Terminal>New Terminal\n",
    "pip install datetime\n",
    "\n",
    "# Alternative way of installing a package\n",
    "# pyton -m pip install datetime"
   ]
  },
  {
   "cell_type": "code",
   "execution_count": 36,
   "id": "d76a51e2",
   "metadata": {},
   "outputs": [
    {
     "ename": "SyntaxError",
     "evalue": "invalid syntax (3891726751.py, line 2)",
     "output_type": "error",
     "traceback": [
      "  \u001b[36mCell\u001b[39m\u001b[36m \u001b[39m\u001b[32mIn[36]\u001b[39m\u001b[32m, line 2\u001b[39m\n\u001b[31m    \u001b[39m\u001b[31mpip freeze > requirements.txt\u001b[39m\n        ^\n\u001b[31mSyntaxError\u001b[39m\u001b[31m:\u001b[39m invalid syntax\n"
     ]
    }
   ],
   "source": [
    "# Creates a list of all installed libraries/packages in current environment\n",
    "pip freeze > requirements.txt"
   ]
  },
  {
   "cell_type": "code",
   "execution_count": null,
   "id": "5f7c6308",
   "metadata": {},
   "outputs": [],
   "source": [
    "# Installs libraries/packages based on list\n",
    "pip install -r requirements.txt"
   ]
  },
  {
   "cell_type": "code",
   "execution_count": null,
   "id": "3f517737",
   "metadata": {},
   "outputs": [],
   "source": [
    "# Importing whole datetime library\n",
    "import datetime\n",
    "\n",
    "print(datetime.date.today())"
   ]
  },
  {
   "cell_type": "code",
   "execution_count": 4,
   "id": "cf6db21e",
   "metadata": {},
   "outputs": [
    {
     "name": "stdout",
     "output_type": "stream",
     "text": [
      "2025-09-23\n"
     ]
    }
   ],
   "source": [
    "# Importing datetime as dt (abbreviation)\n",
    "import datetime as dt\n",
    "print(dt.date.today())"
   ]
  },
  {
   "cell_type": "code",
   "execution_count": 5,
   "id": "d949179c",
   "metadata": {},
   "outputs": [
    {
     "name": "stdout",
     "output_type": "stream",
     "text": [
      "2025-09-23\n"
     ]
    }
   ],
   "source": [
    "# Importing only part of a library\n",
    "from datetime import date\n",
    "print(date.today())"
   ]
  },
  {
   "cell_type": "code",
   "execution_count": 8,
   "id": "f17a4d93",
   "metadata": {},
   "outputs": [
    {
     "name": "stdout",
     "output_type": "stream",
     "text": [
      "10\n",
      "this is a string\n",
      "True\n"
     ]
    }
   ],
   "source": [
    "# Integer\n",
    "cislo = 10\n",
    "print(cislo)\n",
    "\n",
    "# Float\n",
    "desatinne = 5.6\n",
    "\n",
    "# Text\n",
    "text = 'this is a string'\n",
    "print(text)\n",
    "\n",
    "# Boolean\n",
    "b = True\n",
    "c = False\n",
    "print(b)\n",
    "\n",
    "\n",
    "# Python decides on the type of variable on its own,  no need to specify when creating\n",
    "# e.g. no need to do this: 'int cislo = 10'"
   ]
  },
  {
   "cell_type": "code",
   "execution_count": 10,
   "id": "19266f7d",
   "metadata": {},
   "outputs": [
    {
     "name": "stdout",
     "output_type": "stream",
     "text": [
      "<class 'bool'>\n",
      "<class 'str'>\n"
     ]
    }
   ],
   "source": [
    "# Find out type of variable\n",
    "print(type(c))\n",
    "print(type(text))"
   ]
  },
  {
   "cell_type": "code",
   "execution_count": 20,
   "id": "3a169444",
   "metadata": {},
   "outputs": [
    {
     "name": "stdout",
     "output_type": "stream",
     "text": [
      "50\n",
      "150\n",
      "20\n",
      "5.0\n",
      "4\n",
      "9\n",
      "1\n"
     ]
    }
   ],
   "source": [
    "# Aritmeticke operatory\n",
    "print(100-50)\n",
    "print(100+50)\n",
    "print(10*2)\n",
    "print(10/2)     # Result will be in float format\n",
    "print(9//2)     # Result will be rounded up to an integer\n",
    "print(3**2)     # \n",
    "print(22%7)     #"
   ]
  },
  {
   "cell_type": "code",
   "execution_count": 26,
   "id": "1da73812",
   "metadata": {},
   "outputs": [
    {
     "name": "stdout",
     "output_type": "stream",
     "text": [
      "11\n",
      "20\n",
      "2.0\n"
     ]
    }
   ],
   "source": [
    "# Pridelovacie operatory\n",
    "a = 1\n",
    "a += 10      # Equivalent to a = a + 10\n",
    "\n",
    "b = 10\n",
    "b *= 2      # Equivalent to b = b * 2\n",
    "\n",
    "c = 10\n",
    "c /= 5      # Equivalent to c = c / 5\n",
    "\n",
    "print(a)\n",
    "print(b)\n",
    "print(c)\n",
    "\n",
    "# We rewrite the variable 'b' from a boolean to an integer; python does this automatically"
   ]
  },
  {
   "cell_type": "code",
   "execution_count": 2,
   "id": "41c10dec",
   "metadata": {},
   "outputs": [
    {
     "name": "stdout",
     "output_type": "stream",
     "text": [
      "False\n",
      "False\n",
      "False\n",
      "True\n",
      "True\n",
      "True\n",
      "False\n",
      "False\n"
     ]
    }
   ],
   "source": [
    "# Numerical comparison\n",
    "print(2 == 3)       # Equality\n",
    "print(2 != 2)       # Inequality\n",
    "print(2 > 3)\n",
    "print(2 < 4)\n",
    "print(2 >= 2)\n",
    "print(2 <= 3)\n",
    "\n",
    "cislo = 10\n",
    "print(cislo > 11)\n",
    "cislo2 = 11\n",
    "print(cislo > cislo2)"
   ]
  },
  {
   "cell_type": "code",
   "execution_count": 5,
   "id": "14521a11",
   "metadata": {},
   "outputs": [
    {
     "name": "stdout",
     "output_type": "stream",
     "text": [
      "True\n",
      "True\n",
      "True\n",
      "False\n"
     ]
    }
   ],
   "source": [
    "#Logical (and ; or)\n",
    "print(cislo > 5 and cislo2 == 11)\n",
    "print(cislo > 5 or cislo2 == 5)\n",
    "\n",
    "print((cislo > 5 or cislo2 == 5) and cislo != 58)\n",
    "\n",
    "print(not(cislo == 10))     # Function not() changes the boolean to the opposite"
   ]
  },
  {
   "cell_type": "code",
   "execution_count": null,
   "id": "d5cce166",
   "metadata": {},
   "outputs": [
    {
     "name": "stdout",
     "output_type": "stream",
     "text": [
      "7\n",
      "10\n",
      "19\n",
      "3.14\n",
      "5.0\n",
      "Dominik\n",
      "Ahoj\n",
      "Ahoj\n",
      "Moje oblubene cislo je: 15.7\n",
      "Moje oblubene cislo je:15.7\n",
      "Moje oblubene cislo je: 15.7\n",
      "False\n",
      "True\n",
      "7\n",
      "4\n",
      "2\n",
      "23\n",
      "11.5\n",
      "3.5\n",
      "True\n",
      "False\n",
      "☺️\n",
      "Nahodne cislo: 3\n"
     ]
    }
   ],
   "source": [
    "#Exercises\n",
    "#1\n",
    "a = 7\n",
    "print(a)\n",
    "b=3\n",
    "print(a+b)\n",
    "\n",
    "#2\n",
    "rok=2006\n",
    "print(2025-rok)\n",
    "pi=3.14\n",
    "print(pi)\n",
    "\n",
    "#3\n",
    "cm=500\n",
    "m=cm/100\n",
    "print(m)\n",
    "meno = 'Dominik'\n",
    "print(meno)\n",
    "\n",
    "#4\n",
    "pozdrav='Ahoj'\n",
    "print(pozdrav)      # Print twice in two rows (once per row)\n",
    "print(pozdrav)\n",
    "veta='Moje oblubene cislo je:'\n",
    "cislo=15.7\n",
    "print(veta, cislo)      # Print out string and float together without transformation\n",
    "#print(veta + cislo)        # Error: string + float cannoy be printed this way\n",
    "print(veta + str(cislo))        # Transforming float to string\n",
    "print(veta + \" \" + str(cislo))      # Print with space\n",
    "\n",
    "#5\n",
    "weatherIsCloudy = False\n",
    "porovnanie = 5 == 6\n",
    "print(porovnanie)        # Compare two numerical values and print out result\n",
    "v=5>10 or 5<10\n",
    "print(v)\n",
    "\n",
    "#6\n",
    "a=5\n",
    "sum=a+2\n",
    "print(sum)\n",
    "print(10-3*2)\n",
    "\n",
    "#7\n",
    "a=17\n",
    "print(a%5)      # Result is the remainder after division\n",
    "cislo=22\n",
    "add=1\n",
    "cislo+=add      # Adds the value of \"add\" to \"cislo\"\n",
    "print(cislo)\n",
    "divide=2\n",
    "cislo/=divide\n",
    "print(cislo)        # Divides the value of \"cislo\" by the value of \"divide\"\n",
    "\n",
    "#8\n",
    "cislo=2\n",
    "cislo+=5\n",
    "cislo/=2\n",
    "print(cislo)\n",
    "pravda1=cislo == 3.5\n",
    "pravda2=6>5\n",
    "print(pravda1 and pravda2)\n",
    "\n",
    "#9\n",
    "boo=True\n",
    "print(not(boo))\n",
    "\n",
    "#pip install emoji      # Can be run here or in console - rather use console\n",
    "import emoji        # Using emoji library\n",
    "print(emoji.emojize(\":smiling_face:\"))\n",
    "\n",
    "#10\n",
    "#pip install random\n",
    "import random       # Using random library\n",
    "a = random.randint(1, 6)        # Generates random integer from the range 1-6\n",
    "print(\"Nahodne cislo:\", a)\n"
   ]
  },
  {
   "cell_type": "code",
   "execution_count": null,
   "id": "5efd4e57",
   "metadata": {},
   "outputs": [],
   "source": []
  },
  {
   "cell_type": "code",
   "execution_count": null,
   "id": "0f79da88",
   "metadata": {},
   "outputs": [],
   "source": []
  }
 ],
 "metadata": {
  "kernelspec": {
   "display_name": "Python 3",
   "language": "python",
   "name": "python3"
  },
  "language_info": {
   "codemirror_mode": {
    "name": "ipython",
    "version": 3
   },
   "file_extension": ".py",
   "mimetype": "text/x-python",
   "name": "python",
   "nbconvert_exporter": "python",
   "pygments_lexer": "ipython3",
   "version": "3.12.1"
  }
 },
 "nbformat": 4,
 "nbformat_minor": 5
}

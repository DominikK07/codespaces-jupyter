{
 "cells": [
  {
   "cell_type": "code",
   "execution_count": null,
   "id": "6171012c",
   "metadata": {},
   "outputs": [],
   "source": [
    "# Installs package datetime -> Use primarily in terminal, but also works here in cell\n",
    "# Terminal in VS Code: 3 lines(on the left)>Terminal>New Terminal\n",
    "pip install datetime\n",
    "\n",
    "# Alternative way of installing a package\n",
    "# pyton -m pip install datetime"
   ]
  },
  {
   "cell_type": "code",
   "execution_count": null,
   "id": "d76a51e2",
   "metadata": {},
   "outputs": [
    {
     "name": "stdout",
     "output_type": "stream",
     "text": [
      "Note: you may need to restart the kernel to use updated packages.\n"
     ]
    }
   ],
   "source": [
    "# Creates a list of all installed libraries/packages in current environment\n",
    "pip freeze > requirements.txt"
   ]
  },
  {
   "cell_type": "code",
   "execution_count": null,
   "id": "5f7c6308",
   "metadata": {},
   "outputs": [],
   "source": [
    "# Installs libraries/packages based on list\n",
    "pip install -r requirements.txt"
   ]
  },
  {
   "cell_type": "code",
   "execution_count": null,
   "id": "3f517737",
   "metadata": {},
   "outputs": [],
   "source": [
    "# Importing whole datetime library\n",
    "import datetime\n",
    "\n",
    "print(datetime.date.today())"
   ]
  },
  {
   "cell_type": "code",
   "execution_count": 4,
   "id": "cf6db21e",
   "metadata": {},
   "outputs": [
    {
     "name": "stdout",
     "output_type": "stream",
     "text": [
      "2025-09-23\n"
     ]
    }
   ],
   "source": [
    "# Importing datetime as dt (abbreviation)\n",
    "import datetime as dt\n",
    "print(dt.date.today())"
   ]
  },
  {
   "cell_type": "code",
   "execution_count": 5,
   "id": "d949179c",
   "metadata": {},
   "outputs": [
    {
     "name": "stdout",
     "output_type": "stream",
     "text": [
      "2025-09-23\n"
     ]
    }
   ],
   "source": [
    "# Importing only part of a library\n",
    "from datetime import date\n",
    "print(date.today())"
   ]
  },
  {
   "cell_type": "code",
   "execution_count": 8,
   "id": "f17a4d93",
   "metadata": {},
   "outputs": [
    {
     "name": "stdout",
     "output_type": "stream",
     "text": [
      "10\n",
      "this is a string\n",
      "True\n"
     ]
    }
   ],
   "source": [
    "# Integer\n",
    "cislo = 10\n",
    "print(cislo)\n",
    "\n",
    "# Float\n",
    "desatinne = 5.6\n",
    "\n",
    "# Text\n",
    "text = 'this is a string'\n",
    "print(text)\n",
    "\n",
    "# Boolean\n",
    "b = True\n",
    "c = False\n",
    "print(b)\n",
    "\n",
    "\n",
    "# Python decides on the type of variable on its own,  no need to specify when creating\n",
    "# e.g. no need to do this: 'int cislo = 10'"
   ]
  },
  {
   "cell_type": "code",
   "execution_count": 10,
   "id": "19266f7d",
   "metadata": {},
   "outputs": [
    {
     "name": "stdout",
     "output_type": "stream",
     "text": [
      "<class 'bool'>\n",
      "<class 'str'>\n"
     ]
    }
   ],
   "source": [
    "# Find out type of variable\n",
    "print(type(c))\n",
    "print(type(text))"
   ]
  },
  {
   "cell_type": "code",
   "execution_count": 20,
   "id": "3a169444",
   "metadata": {},
   "outputs": [
    {
     "name": "stdout",
     "output_type": "stream",
     "text": [
      "50\n",
      "150\n",
      "20\n",
      "5.0\n",
      "4\n",
      "9\n",
      "1\n"
     ]
    }
   ],
   "source": [
    "# Aritmeticke operatory\n",
    "print(100-50)\n",
    "print(100+50)\n",
    "print(10*2)\n",
    "print(10/2)     # Result will be in float format\n",
    "print(9//2)     # Result will be rounded up to an integer\n",
    "print(3**2)     # \n",
    "print(22%7)     #"
   ]
  },
  {
   "cell_type": "code",
   "execution_count": 22,
   "id": "1da73812",
   "metadata": {},
   "outputs": [
    {
     "name": "stdout",
     "output_type": "stream",
     "text": [
      "11\n",
      "20\n"
     ]
    }
   ],
   "source": [
    "# Pridelovacie operatory\n",
    "a = 1\n",
    "a += 10      # Equivalent to a = a + 10\n",
    "\n",
    "b = 10\n",
    "b *= 2      # Equivalent to b = b * 2\n",
    "\n",
    "print(a)\n",
    "print(b)\n",
    "\n",
    "# We rewrite the variable 'b' from a boolean to an integer; python does this automatically"
   ]
  },
  {
   "cell_type": "code",
   "execution_count": 30,
   "id": "41c10dec",
   "metadata": {},
   "outputs": [
    {
     "name": "stdout",
     "output_type": "stream",
     "text": [
      "False\n",
      "False\n",
      "False\n",
      "True\n",
      "True\n",
      "True\n",
      "False\n",
      "False\n"
     ]
    }
   ],
   "source": [
    "# Numerical comparison\n",
    "print(2 == 3)       # Equality\n",
    "print(2 != 2)       # Inequality\n",
    "print(2 > 3)\n",
    "print(2 < 4)\n",
    "print(2 >= 2)\n",
    "print(2 <= 3)\n",
    "\n",
    "cislo = 10\n",
    "print(cislo > 11)\n",
    "cislo2 = 11\n",
    "print(cislo > cislo2)"
   ]
  },
  {
   "cell_type": "code",
   "execution_count": null,
   "id": "14521a11",
   "metadata": {},
   "outputs": [],
   "source": []
  }
 ],
 "metadata": {
  "kernelspec": {
   "display_name": "Python 3",
   "language": "python",
   "name": "python3"
  },
  "language_info": {
   "codemirror_mode": {
    "name": "ipython",
    "version": 3
   },
   "file_extension": ".py",
   "mimetype": "text/x-python",
   "name": "python",
   "nbconvert_exporter": "python",
   "pygments_lexer": "ipython3",
   "version": "3.12.1"
  }
 },
 "nbformat": 4,
 "nbformat_minor": 5
}
